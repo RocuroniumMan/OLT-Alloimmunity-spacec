{
 "cells": [
  {
   "cell_type": "markdown",
   "id": "1379f96e",
   "metadata": {},
   "source": [
    "conda create -n spacec python=3.10 -c conda-forge -y\n",
    "conda activate spacec\n",
    "conda install -c conda-forge graphviz libvips openslide -y\n",
    "pip install spacec\n",
    "\n",
    "ignore errors with this\n",
    "pip install -r https://raw.githubusercontent.com/nolanlab/SPACEc/master/requirements/requirements-deepcell-mac-arm64_tf210-metal.txt\n",
    "\n",
    "pip install deepcell --no-deps\n",
    "\n",
    "python -c \"import spacec; print('SPACEc OK')\"\n",
    "\n",
    "w/o warnings:\n",
    "python -W ignore::UserWarning -c \"import spacec; print('SPACEc OK')\"\n",
    "\n",
    "\n",
    "python -c \"import deepcell; print('DeepCell OK')\""
   ]
  }
 ],
 "metadata": {
  "language_info": {
   "name": "python"
  }
 },
 "nbformat": 4,
 "nbformat_minor": 5
}
