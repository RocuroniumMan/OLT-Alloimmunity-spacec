{
 "cells": [
  {
   "cell_type": "markdown",
   "metadata": {},
   "source": [
    "# SPACEc: TissUUmaps for interactive visualization\n",
    "Interactive visualization via TissUUmaps might be informative during multiple steps of the analysis. Apart from the general function provided with the TissUUmaps Python package, we provide specific functions that automatically phrase the input during multiple steps of the analysis."
   ]
  },
  {
   "cell_type": "markdown",
   "metadata": {},
   "source": [
    "## Instructions\n",
    "\n",
    "To use the TissUUmaps viewer you need:\n",
    "- A pickle file that contains the segmentation output and images \n",
    "- An AnnData object containing the currently used single cell data\n",
    "\n",
    "The *tm_prepare_input* function reads the named content for one region. For that, the user has to provide a region column and a region name. The pickle file has to match the specified region. \n",
    "The function creates a folder that contains all necessary input files that are needed to launch the TissUUmaps session. Additionally, the function can launch the TissUUmaps session. If the session is launched from the function a tmap file is created in the input directory that allows to open the session again (both from jupyter and the standalone viewer app).\n",
    "Alternatively, the function can be used to prepare the directory and the viewer can be launched separately to modify the display options in jupyter as well as host ports etc.\n",
    "\n",
    "If the Jupyter viewer is too small (might be a problem on small monitors), the user can use the link (displayed if function is executed) to display TissUUmaps in the browser. "
   ]
  },
  {
   "cell_type": "code",
   "execution_count": 1,
   "metadata": {},
   "outputs": [
    {
     "name": "stderr",
     "output_type": "stream",
     "text": [
      "/opt/anaconda3/envs/spacec/lib/python3.10/site-packages/louvain/__init__.py:54: UserWarning: pkg_resources is deprecated as an API. See https://setuptools.pypa.io/en/latest/pkg_resources.html. The pkg_resources package is slated for removal as early as 2025-11-30. Refrain from using this package or pin to Setuptools<81.\n",
      "  from pkg_resources import get_distribution, DistributionNotFound\n"
     ]
    }
   ],
   "source": [
    "# import spacec first\n",
    "import spacec as sp\n",
    "\n",
    "# silencing warnings\n",
    "import warnings\n",
    "warnings.filterwarnings('ignore')\n",
    "\n",
    "#import standard packages\n",
    "import os\n",
    "import scanpy as sc\n"
   ]
  },
  {
   "cell_type": "code",
   "execution_count": 2,
   "metadata": {},
   "outputs": [],
   "source": [
    "root_path = \"/Users/arcz/Desktop/research/allo immunity/OLT-alloimmunity/\" \n",
    "data_path = '/Users/arcz/Desktop/research/allo immunity/example_data/raw/'\n",
    "\n",
    "\n",
    "output_dir = \"/Users/arcz/Desktop/research/allo immunity/OLT-alloimmunity/space/saves/\"\n",
    "os.makedirs(output_dir, exist_ok=True)"
   ]
  },
  {
   "cell_type": "code",
   "execution_count": 3,
   "metadata": {},
   "outputs": [
    {
     "data": {
      "text/plain": [
       "AnnData object with n_obs × n_vars = 48342 × 58\n",
       "    obs: 'DAPI', 'x', 'y', 'area', 'region_num', 'unique_region', 'condition', 'leiden_1', 'leiden_1_subcluster', 'cell_type_coarse', 'cell_type_coarse_subcluster', 'cell_type_coarse_f', 'cell_type_coarse_f_subcluster', 'cell_type', 'CN_k20_n20', 'CN_k20_n6', 'CN_k20_n6_annot'\n",
       "    uns: 'CN_k20_n6_colors', 'Centroid_k20_n20', 'Centroid_k20_n6', 'cell_type_coarse_f_subcluster', 'cell_type_coarse_subcluster', 'cell_type_colors', 'dendrogram_leiden_1', 'leiden_1', 'leiden_1_colors', 'leiden_1_subcluster', 'neighbors', 'pca', 'ppa_result_20_40_60_80_100_border_cell_radius', 'triDist', 'umap', 'unique_region_colors'\n",
       "    obsm: 'X_pca', 'X_umap'\n",
       "    varm: 'PCs'\n",
       "    layers: 'scaled'\n",
       "    obsp: 'connectivities', 'distances'"
      ]
     },
     "execution_count": 3,
     "metadata": {},
     "output_type": "execute_result"
    }
   ],
   "source": [
    "# read in the annotated anndata\n",
    "adata = sc.read(output_dir + 'adata_nn_demo_annotated_cn.h5ad')\n",
    "adata"
   ]
  },
  {
   "cell_type": "code",
   "execution_count": 4,
   "metadata": {},
   "outputs": [
    {
     "data": {
      "text/html": [
       "<div>\n",
       "<style scoped>\n",
       "    .dataframe tbody tr th:only-of-type {\n",
       "        vertical-align: middle;\n",
       "    }\n",
       "\n",
       "    .dataframe tbody tr th {\n",
       "        vertical-align: top;\n",
       "    }\n",
       "\n",
       "    .dataframe thead th {\n",
       "        text-align: right;\n",
       "    }\n",
       "</style>\n",
       "<table border=\"1\" class=\"dataframe\">\n",
       "  <thead>\n",
       "    <tr style=\"text-align: right;\">\n",
       "      <th></th>\n",
       "      <th>DAPI</th>\n",
       "      <th>x</th>\n",
       "      <th>y</th>\n",
       "      <th>area</th>\n",
       "      <th>region_num</th>\n",
       "      <th>unique_region</th>\n",
       "      <th>condition</th>\n",
       "      <th>leiden_1</th>\n",
       "      <th>leiden_1_subcluster</th>\n",
       "      <th>cell_type_coarse</th>\n",
       "      <th>cell_type_coarse_subcluster</th>\n",
       "      <th>cell_type_coarse_f</th>\n",
       "      <th>cell_type_coarse_f_subcluster</th>\n",
       "      <th>cell_type</th>\n",
       "      <th>CN_k20_n20</th>\n",
       "      <th>CN_k20_n6</th>\n",
       "      <th>CN_k20_n6_annot</th>\n",
       "    </tr>\n",
       "  </thead>\n",
       "  <tbody>\n",
       "    <tr>\n",
       "      <th>0</th>\n",
       "      <td>54.510204</td>\n",
       "      <td>1487.357143</td>\n",
       "      <td>162.081633</td>\n",
       "      <td>98.0</td>\n",
       "      <td>0</td>\n",
       "      <td>reg001</td>\n",
       "      <td>tonsil</td>\n",
       "      <td>15</td>\n",
       "      <td>15</td>\n",
       "      <td>M2 Macrophage</td>\n",
       "      <td>M2 Macrophage</td>\n",
       "      <td>M2 Macrophage</td>\n",
       "      <td>M2 Macrophage</td>\n",
       "      <td>M2 Macrophage</td>\n",
       "      <td>4</td>\n",
       "      <td>3</td>\n",
       "      <td>Parafollicular T cell Zone</td>\n",
       "    </tr>\n",
       "    <tr>\n",
       "      <th>1</th>\n",
       "      <td>54.629630</td>\n",
       "      <td>1587.814815</td>\n",
       "      <td>163.388889</td>\n",
       "      <td>54.0</td>\n",
       "      <td>0</td>\n",
       "      <td>reg001</td>\n",
       "      <td>tonsil</td>\n",
       "      <td>15</td>\n",
       "      <td>15</td>\n",
       "      <td>M2 Macrophage</td>\n",
       "      <td>M2 Macrophage</td>\n",
       "      <td>M2 Macrophage</td>\n",
       "      <td>M2 Macrophage</td>\n",
       "      <td>M2 Macrophage</td>\n",
       "      <td>4</td>\n",
       "      <td>3</td>\n",
       "      <td>Parafollicular T cell Zone</td>\n",
       "    </tr>\n",
       "    <tr>\n",
       "      <th>2</th>\n",
       "      <td>66.348361</td>\n",
       "      <td>1463.676230</td>\n",
       "      <td>163.967213</td>\n",
       "      <td>244.0</td>\n",
       "      <td>0</td>\n",
       "      <td>reg001</td>\n",
       "      <td>tonsil</td>\n",
       "      <td>15</td>\n",
       "      <td>15</td>\n",
       "      <td>M2 Macrophage</td>\n",
       "      <td>M2 Macrophage</td>\n",
       "      <td>M2 Macrophage</td>\n",
       "      <td>M2 Macrophage</td>\n",
       "      <td>M2 Macrophage</td>\n",
       "      <td>4</td>\n",
       "      <td>3</td>\n",
       "      <td>Parafollicular T cell Zone</td>\n",
       "    </tr>\n",
       "    <tr>\n",
       "      <th>3</th>\n",
       "      <td>100.316794</td>\n",
       "      <td>1392.251908</td>\n",
       "      <td>167.267176</td>\n",
       "      <td>262.0</td>\n",
       "      <td>0</td>\n",
       "      <td>reg001</td>\n",
       "      <td>tonsil</td>\n",
       "      <td>15</td>\n",
       "      <td>15</td>\n",
       "      <td>M2 Macrophage</td>\n",
       "      <td>M2 Macrophage</td>\n",
       "      <td>M2 Macrophage</td>\n",
       "      <td>M2 Macrophage</td>\n",
       "      <td>M2 Macrophage</td>\n",
       "      <td>4</td>\n",
       "      <td>3</td>\n",
       "      <td>Parafollicular T cell Zone</td>\n",
       "    </tr>\n",
       "    <tr>\n",
       "      <th>4</th>\n",
       "      <td>118.008696</td>\n",
       "      <td>1519.834783</td>\n",
       "      <td>165.160870</td>\n",
       "      <td>230.0</td>\n",
       "      <td>0</td>\n",
       "      <td>reg001</td>\n",
       "      <td>tonsil</td>\n",
       "      <td>15</td>\n",
       "      <td>15</td>\n",
       "      <td>M2 Macrophage</td>\n",
       "      <td>M2 Macrophage</td>\n",
       "      <td>M2 Macrophage</td>\n",
       "      <td>M2 Macrophage</td>\n",
       "      <td>M2 Macrophage</td>\n",
       "      <td>4</td>\n",
       "      <td>3</td>\n",
       "      <td>Parafollicular T cell Zone</td>\n",
       "    </tr>\n",
       "  </tbody>\n",
       "</table>\n",
       "</div>"
      ],
      "text/plain": [
       "         DAPI            x           y   area region_num unique_region  \\\n",
       "0   54.510204  1487.357143  162.081633   98.0          0        reg001   \n",
       "1   54.629630  1587.814815  163.388889   54.0          0        reg001   \n",
       "2   66.348361  1463.676230  163.967213  244.0          0        reg001   \n",
       "3  100.316794  1392.251908  167.267176  262.0          0        reg001   \n",
       "4  118.008696  1519.834783  165.160870  230.0          0        reg001   \n",
       "\n",
       "  condition leiden_1 leiden_1_subcluster cell_type_coarse  \\\n",
       "0    tonsil       15                  15    M2 Macrophage   \n",
       "1    tonsil       15                  15    M2 Macrophage   \n",
       "2    tonsil       15                  15    M2 Macrophage   \n",
       "3    tonsil       15                  15    M2 Macrophage   \n",
       "4    tonsil       15                  15    M2 Macrophage   \n",
       "\n",
       "  cell_type_coarse_subcluster cell_type_coarse_f  \\\n",
       "0               M2 Macrophage      M2 Macrophage   \n",
       "1               M2 Macrophage      M2 Macrophage   \n",
       "2               M2 Macrophage      M2 Macrophage   \n",
       "3               M2 Macrophage      M2 Macrophage   \n",
       "4               M2 Macrophage      M2 Macrophage   \n",
       "\n",
       "  cell_type_coarse_f_subcluster      cell_type  CN_k20_n20  CN_k20_n6  \\\n",
       "0                 M2 Macrophage  M2 Macrophage           4          3   \n",
       "1                 M2 Macrophage  M2 Macrophage           4          3   \n",
       "2                 M2 Macrophage  M2 Macrophage           4          3   \n",
       "3                 M2 Macrophage  M2 Macrophage           4          3   \n",
       "4                 M2 Macrophage  M2 Macrophage           4          3   \n",
       "\n",
       "              CN_k20_n6_annot  \n",
       "0  Parafollicular T cell Zone  \n",
       "1  Parafollicular T cell Zone  \n",
       "2  Parafollicular T cell Zone  \n",
       "3  Parafollicular T cell Zone  \n",
       "4  Parafollicular T cell Zone  "
      ]
     },
     "execution_count": 4,
     "metadata": {},
     "output_type": "execute_result"
    }
   ],
   "source": [
    "adata.obs.head()"
   ]
  },
  {
   "cell_type": "markdown",
   "metadata": {},
   "source": [
    "## Integrated use"
   ]
  },
  {
   "cell_type": "markdown",
   "metadata": {},
   "source": [
    "This function allows the user to reshape the data for TissUUmaps and plot cells from a selected region on top of the original image."
   ]
  },
  {
   "cell_type": "code",
   "execution_count": 5,
   "metadata": {},
   "outputs": [
    {
     "name": "stdout",
     "output_type": "stream",
     "text": [
      "Please consider to cite the following paper when using TissUUmaps: TissUUmaps 3: Improvements in interactive visualization, exploration, and quality assessment of large-scale spatial omics data - Pielawski, Nicolas et al. 2023 - Heliyon, Volume 9, Issue 5, e15306\n",
      "Plug-in downloaded and saved to /opt/anaconda3/envs/spacec/lib/python3.10/site-packages/tissuumaps/plugins/ClassQC.js\n",
      "Plug-in downloaded and saved to /opt/anaconda3/envs/spacec/lib/python3.10/site-packages/tissuumaps/plugins/Plot_Histogram.js\n",
      "Plug-in downloaded and saved to /opt/anaconda3/envs/spacec/lib/python3.10/site-packages/tissuumaps/plugins/Points2Regions.js\n",
      "Plug-in downloaded and saved to /opt/anaconda3/envs/spacec/lib/python3.10/site-packages/tissuumaps/plugins/Spot_Inspector.js\n",
      "Plug-in downloaded and saved to /opt/anaconda3/envs/spacec/lib/python3.10/site-packages/tissuumaps/plugins/Feature_Space.js\n",
      "Preparing TissUUmaps input...\n",
      "Opening TissUUmaps viewer...\n",
      "Creating project file /Users/arcz/Desktop/research/allo immunity/OLT-alloimmunity/space/saves/cache/reg002/reg002_project.tmap\n",
      "Loading url:  http://localhost:5100/reg002_project.tmap?path=Users/arcz/Desktop/research/allo immunity/OLT-alloimmunity/space/saves/cache/reg002\n"
     ]
    },
    {
     "data": {
      "text/html": [
       "<iframe src=\"http://localhost:5100/reg002_project.tmap?path=Users/arcz/Desktop/research/allo immunity/OLT-alloimmunity/space/saves/cache/reg002\" style=\"width: 100%; height: 900px; border: none\" id=\"tissUUmapsViewer_3ded59aa44\" allowfullscreen></iframe>"
      ],
      "text/plain": [
       "<IPython.core.display.HTML object>"
      ]
     },
     "metadata": {},
     "output_type": "display_data"
    }
   ],
   "source": [
    "#create cache direction to store tissuumaps cache\n",
    "os.makedirs(output_dir + \"cache\", exist_ok=True)\n",
    "\n",
    "image_list, csv_paths = sp.tl.tm_viewer(\n",
    "    adata,\n",
    "    images_pickle_path= output_dir + 'seg_output_tonsil2.pickle',\n",
    "    directory = output_dir + \"cache\", # Or inset your own path where you want to cache your images for TM visualization (you can delete this once you are done with TM)\n",
    "    region_column = \"unique_region\",\n",
    "    region = \"reg002\",\n",
    "    xSelector = \"y\",\n",
    "    ySelector = \"x\",\n",
    "    color_by = \"cell_type\",\n",
    "    keep_list = None,\n",
    "    open_viewer=True)"
   ]
  },
  {
   "cell_type": "markdown",
   "metadata": {},
   "source": [
    "## Interactive Catplot via the TissUUmaps viewer"
   ]
  },
  {
   "cell_type": "markdown",
   "metadata": {},
   "source": [
    "This function starts a simplified version that only shows the cell centroid without the original image. It can be used for fast and interactive visualization. Different from the function above, this function allows visualizing all regions at once. "
   ]
  },
  {
   "cell_type": "code",
   "execution_count": 6,
   "metadata": {},
   "outputs": [
    {
     "name": "stdout",
     "output_type": "stream",
     "text": [
      "Preparing TissUUmaps input...\n",
      "Creating temporary directory... If you want to save the files, please specify a directory.\n",
      "Opening TissUUmaps viewer...\n",
      "Creating project file /var/folders/8s/bnt7z5ns5zv4tryq6vyqyb040000gn/T/tmpy43h4kd4/project.tmap\n",
      "Loading url:  http://localhost:5100/project.tmap?path=var/folders/8s/bnt7z5ns5zv4tryq6vyqyb040000gn/T/tmpy43h4kd4\n"
     ]
    },
    {
     "data": {
      "text/html": [
       "<iframe src=\"http://localhost:5100/project.tmap?path=var/folders/8s/bnt7z5ns5zv4tryq6vyqyb040000gn/T/tmpy43h4kd4\" style=\"width: 100%; height: 900px; border: none\" id=\"tissUUmapsViewer_418e0ffa44\" allowfullscreen></iframe>"
      ],
      "text/plain": [
       "<IPython.core.display.HTML object>"
      ]
     },
     "metadata": {},
     "output_type": "display_data"
    },
    {
     "data": {
      "text/plain": [
       "['/var/folders/8s/bnt7z5ns5zv4tryq6vyqyb040000gn/T/tmpy43h4kd4/reg001.csv',\n",
       " '/var/folders/8s/bnt7z5ns5zv4tryq6vyqyb040000gn/T/tmpy43h4kd4/reg002.csv']"
      ]
     },
     "execution_count": 6,
     "metadata": {},
     "output_type": "execute_result"
    }
   ],
   "source": [
    "sp.tl.tm_viewer_catplot(\n",
    "    adata, # anndata object\n",
    "    directory=None, # directory to save the generated csv files\n",
    "    region_column=\"unique_region\", # column with the region information (user can select region in tm viewer)\n",
    "    x=\"x\", # x coordinates\n",
    "    y=\"y\", # y coordinates\n",
    "    color_by=\"cell_type\", # cathegorical column to color by\n",
    "    open_viewer=True, # open the tm viewer \n",
    "    add_UMAP=True, # add UMAP to the tm viewer for exploring the feature space along with the spatial data\n",
    "    keep_list=None) # List of columns to keep from `adata.obs`. If None, defaults to [region_column, x, y, color_by]"
   ]
  }
 ],
 "metadata": {
  "kernelspec": {
   "display_name": "spacec",
   "language": "python",
   "name": "python3"
  },
  "language_info": {
   "codemirror_mode": {
    "name": "ipython",
    "version": 3
   },
   "file_extension": ".py",
   "mimetype": "text/x-python",
   "name": "python",
   "nbconvert_exporter": "python",
   "pygments_lexer": "ipython3",
   "version": "3.10.18"
  }
 },
 "nbformat": 4,
 "nbformat_minor": 4
}
